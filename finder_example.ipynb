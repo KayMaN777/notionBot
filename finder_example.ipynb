{
 "cells": [
  {
   "cell_type": "code",
   "execution_count": 1,
   "id": "42646b8f",
   "metadata": {},
   "outputs": [],
   "source": [
    "from finder import Finder"
   ]
  },
  {
   "cell_type": "code",
   "execution_count": 2,
   "id": "2bd3b2d4",
   "metadata": {},
   "outputs": [],
   "source": [
    "# взяты из класса MyApi\n",
    "\n",
    "types = [\n",
    "    \"Добавление нового проекта\",\n",
    "    \"Удаление проекта\",\n",
    "    \"Добавление новой задачи\",\n",
    "    \"Закрытие задачи\",\n",
    "    \"Просмотреть задачи на сегодня\"\n",
    "]"
   ]
  },
  {
   "cell_type": "code",
   "execution_count": 3,
   "id": "2926fd1e",
   "metadata": {},
   "outputs": [],
   "source": [
    "finder = Finder(types)"
   ]
  },
  {
   "cell_type": "code",
   "execution_count": 4,
   "id": "b846acaa",
   "metadata": {},
   "outputs": [
    {
     "data": {
      "text/plain": [
       "Attrs(type_idx=0, name='Проект', date='12.12.23', time=None)"
      ]
     },
     "execution_count": 4,
     "metadata": {},
     "output_type": "execute_result"
    }
   ],
   "source": [
    "finder.get_attrs(\"Создать проект `Проект` до 12.12.23\")"
   ]
  },
  {
   "cell_type": "code",
   "execution_count": 5,
   "id": "48843735",
   "metadata": {},
   "outputs": [
    {
     "data": {
      "text/plain": [
       "Attrs(type_idx=1, name='Проект', date=None, time=None)"
      ]
     },
     "execution_count": 5,
     "metadata": {},
     "output_type": "execute_result"
    }
   ],
   "source": [
    "finder.get_attrs(\"Delete project `Проект`\")"
   ]
  },
  {
   "cell_type": "code",
   "execution_count": 6,
   "id": "4a6994fe",
   "metadata": {},
   "outputs": [
    {
     "data": {
      "text/plain": [
       "Attrs(type_idx=2, name='ДЗ', date='12.12.2023', time='23:00')"
      ]
     },
     "execution_count": 6,
     "metadata": {},
     "output_type": "execute_result"
    }
   ],
   "source": [
    "finder.get_attrs(\"Новое задание `ДЗ` до 12.12.2023 23:00\")"
   ]
  },
  {
   "cell_type": "code",
   "execution_count": 7,
   "id": "19c43500",
   "metadata": {},
   "outputs": [
    {
     "data": {
      "text/plain": [
       "Attrs(type_idx=3, name='ДЗ', date=None, time=None)"
      ]
     },
     "execution_count": 7,
     "metadata": {},
     "output_type": "execute_result"
    }
   ],
   "source": [
    "finder.get_attrs(\"Сделал задание `ДЗ`\")"
   ]
  },
  {
   "cell_type": "code",
   "execution_count": 8,
   "id": "bb7760fb",
   "metadata": {},
   "outputs": [
    {
     "data": {
      "text/plain": [
       "Attrs(type_idx=4, name=None, date=None, time=None)"
      ]
     },
     "execution_count": 8,
     "metadata": {},
     "output_type": "execute_result"
    }
   ],
   "source": [
    "finder.get_attrs(\"Что нужно сделать сегодня?\")"
   ]
  },
  {
   "cell_type": "markdown",
   "id": "3727b9ff",
   "metadata": {},
   "source": [
    "Типы запросов определены верно. Поддерживается русский и английские языки. Есть парсер атрибутов."
   ]
  }
 ],
 "metadata": {
  "kernelspec": {
   "display_name": "Python 3 (ipykernel)",
   "language": "python",
   "name": "python3"
  },
  "language_info": {
   "codemirror_mode": {
    "name": "ipython",
    "version": 3
   },
   "file_extension": ".py",
   "mimetype": "text/x-python",
   "name": "python",
   "nbconvert_exporter": "python",
   "pygments_lexer": "ipython3",
   "version": "3.8.13"
  }
 },
 "nbformat": 4,
 "nbformat_minor": 5
}
